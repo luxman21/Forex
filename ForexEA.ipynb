{
  "nbformat": 4,
  "nbformat_minor": 0,
  "metadata": {
    "colab": {
      "name": "ForexEA.ipynb",
      "provenance": [],
      "authorship_tag": "ABX9TyOAc8otbCshIRJCgW1f6T50",
      "include_colab_link": true
    },
    "kernelspec": {
      "name": "python3",
      "display_name": "Python 3"
    }
  },
  "cells": [
    {
      "cell_type": "markdown",
      "metadata": {
        "id": "view-in-github",
        "colab_type": "text"
      },
      "source": [
        "<a href=\"https://colab.research.google.com/github/luxman21/Forex/blob/main/ForexEA.ipynb\" target=\"_parent\"><img src=\"https://colab.research.google.com/assets/colab-badge.svg\" alt=\"Open In Colab\"/></a>"
      ]
    },
    {
      "cell_type": "code",
      "metadata": {
        "colab": {
          "base_uri": "https://localhost:8080/"
        },
        "id": "rQrY2jbyQvYM",
        "outputId": "45f1ceb0-8909-47a3-ed8f-addb0099dd03"
      },
      "source": [
        "from google.colab import drive\n",
        "drive.mount('/content/gdrive', force_remount=True)"
      ],
      "execution_count": 8,
      "outputs": [
        {
          "output_type": "stream",
          "text": [
            "Mounted at /content/gdrive\n"
          ],
          "name": "stdout"
        }
      ]
    },
    {
      "cell_type": "code",
      "metadata": {
        "id": "34b_VonuWSBU"
      },
      "source": [
        "import pandas as pd \n",
        "import numpy as np\n",
        "import matplotlib.pyplot as plt\n"
      ],
      "execution_count": 54,
      "outputs": []
    },
    {
      "cell_type": "code",
      "metadata": {
        "id": "ex_mRlhJWKcY"
      },
      "source": [
        "# File path in colab \n",
        "filePath = \"/content/gdrive/MyDrive/TradeHistory/2021/March/statmentMarch01.xlsx\"\n",
        "# path_excel= \"/content/gdrive/MyDrive/TradeHistory/2021/March/statmentMarch01.gsheet\""
      ],
      "execution_count": 28,
      "outputs": []
    },
    {
      "cell_type": "code",
      "metadata": {
        "id": "impS39NrWPk2"
      },
      "source": [
        "df = pd.read_excel(filePath)"
      ],
      "execution_count": 30,
      "outputs": []
    },
    {
      "cell_type": "code",
      "metadata": {
        "colab": {
          "base_uri": "https://localhost:8080/"
        },
        "id": "ly9m1mNVl9FR",
        "outputId": "3b92ece7-c29a-4066-d332-7189675cefd7"
      },
      "source": [
        "# project the Total Profit/loss for the traded pairs \n",
        "\n",
        "summOfDistinct = df.groupby([\"Item\"])[\"Item\",\"Profit\"].sum().reset_index()\n",
        "\n",
        "print(summOfDistinct)"
      ],
      "execution_count": 51,
      "outputs": [
        {
          "output_type": "stream",
          "text": [
            "     Item  Profit\n",
            "0  audnzd   14.40\n",
            "1  eurnzd   94.27\n",
            "2  eurusd   49.20\n",
            "3  xagusd   59.25\n"
          ],
          "name": "stdout"
        },
        {
          "output_type": "stream",
          "text": [
            "/usr/local/lib/python3.7/dist-packages/ipykernel_launcher.py:3: FutureWarning: Indexing with multiple keys (implicitly converted to a tuple of keys) will be deprecated, use a list instead.\n",
            "  This is separate from the ipykernel package so we can avoid doing imports until\n"
          ],
          "name": "stderr"
        }
      ]
    },
    {
      "cell_type": "code",
      "metadata": {
        "colab": {
          "base_uri": "https://localhost:8080/",
          "height": 265
        },
        "id": "KYxQF_qlmdBn",
        "outputId": "d4da428f-9672-4dec-d206-5c4ecb944b64"
      },
      "source": [
        "x = summOfDistinct.Item\n",
        "y = summOfDistinct.Profit\n",
        "plt.bar(x, y)\n",
        "plt.show()"
      ],
      "execution_count": 55,
      "outputs": [
        {
          "output_type": "display_data",
          "data": {
            "image/png": "[encoded data removed]",
            "text/plain": [
              "<Figure size 432x288 with 1 Axes>"
            ]
          },
          "metadata": {
            "tags": [],
            "needs_background": "light"
          }
        }
      ]
    }
  ]
}