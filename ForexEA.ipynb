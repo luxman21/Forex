{
  "nbformat": 4,
  "nbformat_minor": 0,
  "metadata": {
    "colab": {
      "name": "ForexEA.ipynb",
      "provenance": [],
      "collapsed_sections": [],
      "authorship_tag": "ABX9TyN7QD+4kn3O7CoyZ8eabnBk",
      "include_colab_link": true
    },
    "kernelspec": {
      "name": "python3",
      "display_name": "Python 3"
    }
  },
  "cells": [
    {
      "cell_type": "markdown",
      "metadata": {
        "id": "view-in-github",
        "colab_type": "text"
      },
      "source": [
        "<a href=\"https://colab.research.google.com/github/luxman21/Forex/blob/main/ForexEA.ipynb\" target=\"_parent\"><img src=\"https://colab.research.google.com/assets/colab-badge.svg\" alt=\"Open In Colab\"/></a>"
      ]
    },
    {
      "cell_type": "code",
      "metadata": {
        "colab": {
          "base_uri": "https://localhost:8080/"
        },
        "id": "rQrY2jbyQvYM",
        "outputId": "95355b33-8435-4ec6-f522-b7567920eca7"
      },
      "source": [
        "# Mount google drive to read the Excel sheet\n",
        "from google.colab import drive\n",
        "drive.mount('/content/gdrive', force_remount=True)\n",
        "\n",
        "# File path in colab \n",
        "filePath = \"/content/gdrive/MyDrive/TradeHistory/2021/March/statmentMarch01.xlsx\"\n",
        "# path_excel= \"/content/gdrive/MyDrive/TradeHistory/2021/March/statmentMarch01.gsheet\""
      ],
      "execution_count": null,
      "outputs": [
        {
          "output_type": "stream",
          "text": [
            "Mounted at /content/gdrive\n"
          ],
          "name": "stdout"
        }
      ]
    },
    {
      "cell_type": "code",
      "metadata": {
        "id": "34b_VonuWSBU"
      },
      "source": [
        "# Import necessary Libs\n",
        "\n",
        "import pandas as pd \n",
        "import numpy as np\n",
        "import matplotlib.pyplot as plt\n",
        "import warnings\n",
        "import matplotlib.pyplot as plt\n",
        "\n",
        "warnings.filterwarnings(\"ignore\")"
      ],
      "execution_count": 2,
      "outputs": []
    },
    {
      "cell_type": "code",
      "metadata": {
        "id": "impS39NrWPk2",
        "colab": {
          "base_uri": "https://localhost:8080/",
          "height": 198
        },
        "outputId": "3217bf85-d9a5-4c63-c3d1-0389b5c685fc"
      },
      "source": [
        "# Read the file\n",
        "df = pd.read_excel(filePath)\n",
        "df.tail(10)"
      ],
      "execution_count": 3,
      "outputs": [
        {
          "output_type": "error",
          "ename": "NameError",
          "evalue": "ignored",
          "traceback": [
            "\u001b[0;31m---------------------------------------------------------------------------\u001b[0m",
            "\u001b[0;31mNameError\u001b[0m                                 Traceback (most recent call last)",
            "\u001b[0;32m<ipython-input-3-0efa95f24cc5>\u001b[0m in \u001b[0;36m<module>\u001b[0;34m()\u001b[0m\n\u001b[1;32m      1\u001b[0m \u001b[0;31m# Read the file\u001b[0m\u001b[0;34m\u001b[0m\u001b[0;34m\u001b[0m\u001b[0;34m\u001b[0m\u001b[0m\n\u001b[0;32m----> 2\u001b[0;31m \u001b[0mdf\u001b[0m \u001b[0;34m=\u001b[0m \u001b[0mpd\u001b[0m\u001b[0;34m.\u001b[0m\u001b[0mread_excel\u001b[0m\u001b[0;34m(\u001b[0m\u001b[0mfilePath\u001b[0m\u001b[0;34m)\u001b[0m\u001b[0;34m\u001b[0m\u001b[0;34m\u001b[0m\u001b[0m\n\u001b[0m\u001b[1;32m      3\u001b[0m \u001b[0mdf\u001b[0m\u001b[0;34m.\u001b[0m\u001b[0mtail\u001b[0m\u001b[0;34m(\u001b[0m\u001b[0;36m10\u001b[0m\u001b[0;34m)\u001b[0m\u001b[0;34m\u001b[0m\u001b[0;34m\u001b[0m\u001b[0m\n",
            "\u001b[0;31mNameError\u001b[0m: name 'filePath' is not defined"
          ]
        }
      ]
    },
    {
      "cell_type": "code",
      "metadata": {
        "colab": {
          "base_uri": "https://localhost:8080/"
        },
        "id": "ly9m1mNVl9FR",
        "outputId": "394b2674-3c26-4b9f-8ed6-c6caa95ce8e3"
      },
      "source": [
        "# project the Total Profit/loss for the traded pairs \n",
        "\n",
        "totalProfitByCurrency = df.groupby([\"Item\"])[\"Item\",\"Profit\"].sum().reset_index()\n",
        "\n",
        "print(summOfDistinct)"
      ],
      "execution_count": null,
      "outputs": [
        {
          "output_type": "stream",
          "text": [
            "     Item  Profit\n",
            "0  audnzd   14.40\n",
            "1  eurnzd   94.27\n",
            "2  eurusd   49.20\n",
            "3  xagusd   59.25\n"
          ],
          "name": "stdout"
        }
      ]
    },
    {
      "cell_type": "code",
      "metadata": {
        "colab": {
          "base_uri": "https://localhost:8080/",
          "height": 265
        },
        "id": "KYxQF_qlmdBn",
        "outputId": "08dac3be-5eda-4e20-a377-ac102a1602d0"
      },
      "source": [
        "x = summOfDistinct.Item\n",
        "y = summOfDistinct.Profit\n",
        "plt.bar(x, y)\n",
        "plt.show()"
      ],
      "execution_count": null,
      "outputs": [
        {
          "output_type": "display_data",
          "data": {
            "image/png": "[encoded data removed]",
            "text/plain": [
              "<Figure size 432x288 with 1 Axes>"
            ]
          },
          "metadata": {
            "tags": [],
            "needs_background": "light"
          }
        }
      ]
    },
    {
      "cell_type": "code",
      "metadata": {
        "colab": {
          "base_uri": "https://localhost:8080/"
        },
        "id": "0pgKjKuo1EMR",
        "outputId": "fa9f313f-6b62-44bd-b7ea-ee3b4fbc7d3d"
      },
      "source": [
        "# which pairs made the most loss\n",
        "allNegativeClosedTrades = df.query(\"Profit < 0\").groupby('Item')[\"Item\",\"Profit\"].sum().reset_index()\n",
        "allPositiveClosedTrades = df.query(\"Profit > 0\").groupby('Item')[\"Item\",\"Profit\"].sum().reset_index()\n",
        "\n",
        "print(f\"Closed Negative: \\n{allNegativeClosedTrades}\\n \\n Closed Positive: \\n{allPositiveClosedTrades} \\n \\n Total Profit/Loss: \\n{totalProfitByCurrency}\")"
      ],
      "execution_count": null,
      "outputs": [
        {
          "output_type": "stream",
          "text": [
            "Closed Negative: \n",
            "     Item  Profit\n",
            "0  audnzd   -4.20\n",
            "1  eurnzd  -22.55\n",
            "2  eurusd  -19.37\n",
            "3  xagusd  -23.95\n",
            " \n",
            " Closed Positive: \n",
            "     Item  Profit\n",
            "0  audnzd   18.60\n",
            "1  eurnzd  116.82\n",
            "2  eurusd   68.57\n",
            "3  xagusd   83.20 \n",
            " \n",
            " Total Profit/Loss: \n",
            "     Item  Profit\n",
            "0  audnzd   14.40\n",
            "1  eurnzd   94.27\n",
            "2  eurusd   49.20\n",
            "3  xagusd   59.25\n"
          ],
          "name": "stdout"
        }
      ]
    },
    {
      "cell_type": "code",
      "metadata": {
        "colab": {
          "base_uri": "https://localhost:8080/"
        },
        "id": "dbNQQW3927a9",
        "outputId": "eadd9fbb-8638-4280-ead0-e1ec4f8c62ae"
      },
      "source": [
        "totaltchekc = df.loc[(df['Item']== 'audnzd') & (df['Profit']< 0), \"Profit\"].sum()\n",
        "print(totaltchekc)"
      ],
      "execution_count": null,
      "outputs": [
        {
          "output_type": "stream",
          "text": [
            "-4.2\n"
          ],
          "name": "stdout"
        }
      ]
    },
    {
      "cell_type": "code",
      "metadata": {
        "id": "fcJH2IkC6-mR"
      },
      "source": [
        ""
      ],
      "execution_count": null,
      "outputs": []
    }
  ]
}